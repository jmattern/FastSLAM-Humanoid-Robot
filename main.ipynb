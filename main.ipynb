{
 "cells": [
  {
   "cell_type": "code",
   "execution_count": 1,
   "metadata": {},
   "outputs": [],
   "source": [
    "import matplotlib.pyplot as plt\n",
    "import numpy as np\n",
    "import os\n",
    "import argparse\n",
    "import sys\n",
    "\n",
    "from robot_data_loader import *\n",
    "from humanoidrobot import *\n",
    "\n",
    "parser = argparse.ArgumentParser(description='FastSLAM on Humanoid Robot')\n",
    "parser.add_argument('-jp', '--joint-path', default='', type=str,\n",
    "                    help='path to joint data')\n",
    "parser.add_argument('-lp', '--lidar-path', default='', type=str,\n",
    "                    help='path to lidar data')\n",
    "parser.add_argument('-uf', '--update-frequency', default='', type=int,\n",
    "                    help='Update every n data points')\n",
    "\n",
    "def main(arg_string = \"\"):\n",
    "    global args\n",
    "    \n",
    "    # if arg_string is empty then running from console\n",
    "    if not arg_string:\n",
    "        args = parser.parse_args()\n",
    "    else:\n",
    "        arg_list = arg_string.split()\n",
    "        args = parser.parse_args(arg_list)\n",
    "        \n",
    "    # create dataloader object and robot object\n",
    "    dataloader = RobotDataLoader(args.joint_path, args.lidar_path)\n",
    "    robot = HumanoidRobot(sensor_head_dist = 0.15, head_body_dist = 0.33, \n",
    "                 floor_body_dist = 0.93, N_eff_threshold = 5)\n",
    "    \n",
    "    # customize the fastSLAM parameters\n",
    "    robot.fastslam = FastSLAM(x_range = (-30,30), y_range = (-30,30), map_res = 0.06,\n",
    "                 dtheta_res = 1, pos_sweep_ind = np.arange(-4,5,1), \n",
    "                 lidar_angles = np.arange(-135,135.25,0.25), lidar_range = (0.1,30),\n",
    "                 lidar_sweep_ind = np.arange(-4,5,1), \n",
    "                 num_particles = 50, x_sigma = 0.001, y_sigma = 0.001, theta_sigma = 0.015)\n",
    "\n",
    "\n",
    "    # Run FastSLAM\n",
    "    x_path = [] #path output\n",
    "    y_path = [] #path output\n",
    "    data_length = len(dataloader)\n",
    "    for i in range(data_length):\n",
    "        sys.stdout.flush()\n",
    "        sys.stdout.write('\\rFastSLAM Progress: {}/{}'.format(i+1, data_length))\n",
    "        (l_scan, l_pose_x, l_pose_y, l_pose_yaw, h_pitch, h_yaw, ts) = dataloader.get_item(i)\n",
    "        if i == 0:\n",
    "            robot.setup_map(l_scan, l_pose_x, l_pose_y, l_pose_yaw, h_pitch, h_yaw, ts)\n",
    "            T_w2b_best = robot.predict(l_scan, l_pose_x, l_pose_y, l_pose_yaw, h_pitch, h_yaw, ts)            \n",
    "            x_path.append(T_w2b_best[0,3])\n",
    "            y_path.append(T_w2b_best[1,3])\n",
    "        elif (i+1)%args.update_frequency == 0:\n",
    "            T_w2b_best = robot.predict_and_update(l_scan, l_pose_x, l_pose_y, l_pose_yaw, h_pitch, h_yaw, ts)        \n",
    "            x_path.append(T_w2b_best[0,3])\n",
    "            y_path.append(T_w2b_best[1,3])\n",
    "        else:\n",
    "            T_w2b_best = robot.predict(l_scan, l_pose_x, l_pose_y, l_pose_yaw, h_pitch, h_yaw, ts)\n",
    "    print(\"\")\n",
    "    print(\"FastSLAM Completed\")\n",
    "    return robot, x_path, y_path\n"
   ]
  },
  {
   "cell_type": "code",
   "execution_count": 2,
   "metadata": {},
   "outputs": [
    {
     "name": "stdout",
     "output_type": "stream",
     "text": [
      "Session Progress: 200/200\n",
      "Session Completed\n"
     ]
    }
   ],
   "source": [
    "# Run FastSLAM on Humanoid robot\n",
    "arg_string = \"--joint-path ../data/joint/train_joint0 --lidar-path ../data/lidar/train_lidar0 --update-frequency 100\"\n",
    "robot, x_path, y_path = main(arg_string)"
   ]
  },
  {
   "cell_type": "code",
   "execution_count": 3,
   "metadata": {},
   "outputs": [
    {
     "data": {
      "image/png": "[encoded data removed]",
      "text/plain": [
       "<matplotlib.figure.Figure at 0x1f80ba8e390>"
      ]
     },
     "metadata": {},
     "output_type": "display_data"
    },
    {
     "data": {
      "image/png": "[encoded data removed]",
      "text/plain": [
       "<matplotlib.figure.Figure at 0x1f80d55f5c0>"
      ]
     },
     "metadata": {},
     "output_type": "display_data"
    }
   ],
   "source": [
    "# Get path in pixel coordinates\n",
    "x_path_is = np.ceil((np.array(x_path) - robot.fastslam.xmin) / robot.fastslam.map_res ).astype(np.int16)-1\n",
    "y_path_is = np.ceil((np.array(y_path) - robot.fastslam.ymin) / robot.fastslam.map_res ).astype(np.int16)-1\n",
    "\n",
    "# Get map output\n",
    "slam_map = robot.get_map()\n",
    "\n",
    "# Create threshold map\n",
    "map_out = np.zeros(slam_map.shape).astype(np.uint8)\n",
    "thresh = slam_map < 0.\n",
    "map_out[thresh] = 0\n",
    "thresh = slam_map > 0.\n",
    "map_out[thresh] = 255\n",
    "thresh = slam_map == 0.\n",
    "map_out[thresh] = 125\n",
    "\n",
    "# Plot outputs\n",
    "plt.figure(figsize = (10,10))\n",
    "plt.imshow(map_out,cmap=\"gray\")\n",
    "plt.plot(y_path_is,x_path_is,linewidth=2, color='blue')\n",
    "plt.show()"
   ]
  },
  {
   "cell_type": "code",
   "execution_count": null,
   "metadata": {},
   "outputs": [],
   "source": []
  }
 ],
 "metadata": {
  "kernelspec": {
   "display_name": "Python 3",
   "language": "python",
   "name": "python3"
  },
  "language_info": {
   "codemirror_mode": {
    "name": "ipython",
    "version": 3
   },
   "file_extension": ".py",
   "mimetype": "text/x-python",
   "name": "python",
   "nbconvert_exporter": "python",
   "pygments_lexer": "ipython3",
   "version": "3.6.2"
  }
 },
 "nbformat": 4,
 "nbformat_minor": 2
}
